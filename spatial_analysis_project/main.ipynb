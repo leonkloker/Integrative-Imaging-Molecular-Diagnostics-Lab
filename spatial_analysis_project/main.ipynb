{
 "cells": [
  {
   "cell_type": "code",
   "execution_count": 1,
   "metadata": {},
   "outputs": [],
   "source": [
    "from core import Core\n",
    "from dataset import Dataset\n",
    "from pprint import pprint"
   ]
  },
  {
   "cell_type": "code",
   "execution_count": 2,
   "metadata": {},
   "outputs": [
    {
     "name": "stdout",
     "output_type": "stream",
     "text": [
      "Loading cores from directory ./M06/Predicted Texts/ ...\n"
     ]
    }
   ],
   "source": [
    "ds = Dataset('./M06/Predicted Texts/')\n",
    "ds.load()"
   ]
  },
  {
   "cell_type": "code",
   "execution_count": 3,
   "metadata": {},
   "outputs": [],
   "source": [
    "ds.calculate_biomarker_mean()"
   ]
  },
  {
   "cell_type": "code",
   "execution_count": 6,
   "metadata": {},
   "outputs": [
    {
     "name": "stdout",
     "output_type": "stream",
     "text": [
      "Biomarker K-function L1 for Macrophage has not the same number of patients as the patient information!\n"
     ]
    }
   ],
   "source": [
    "ds.univariate_cox_model()"
   ]
  },
  {
   "cell_type": "code",
   "execution_count": 10,
   "metadata": {},
   "outputs": [
    {
     "name": "stdout",
     "output_type": "stream",
     "text": [
      "155\n"
     ]
    }
   ],
   "source": [
    "print(len(ds.biomarkers))"
   ]
  },
  {
   "cell_type": "code",
   "execution_count": 9,
   "metadata": {},
   "outputs": [
    {
     "name": "stdout",
     "output_type": "stream",
     "text": [
      "Lymphocyte_average_area_px^2 [0.0005115355475371821, 0.001670608922846363, 0.006358365540524824]\n",
      "Neutrophil_average_area_px^2 [0.022004828205427138, 0.086370173800443, 0.0014917233448875488]\n",
      "Others_average_area_px^2 [0.09681101954043127, 0.10830381459982442, 0.021265757530386488]\n",
      "Lymphocyte_density_mu^2 [0.40797872162735904, 0.44203417891010455, 0.026045657031281633]\n",
      "Neutrophil_density_mu^2 [0.137261193447293, 0.07419458270688321, 0.01774250174964146]\n",
      "Lymphocyte_fraction [0.3748750305318016, 0.41793386919108444, 0.026045657031281633]\n",
      "G-function L1 for Lymphocyte to Lymphocyte [0.343322664630928, 0.20141305239970553, 0.02595229482761875]\n",
      "G-function L1 for Lymphocyte to Macrophage [0.7520979266213185, 0.6434026414735061, 0.02912110755680865]\n",
      "G-function L1 for Lymphocyte to Others [0.8025106486922747, 0.24276838147419633, 0.0071755496522276545]\n",
      "G-function L1 for Neutrophil to Others [0.27912093208324684, 0.7355526560847674, 0.02930536162710716]\n",
      "G-function L1 for Tumor to Neutrophil [0.16356207528441855, 0.2656360039225347, 4.962513541369902e-10]\n",
      "G-function L1 for Tumor to Others [0.15780508010407007, 0.0536135177533519, 0.013676687053874512]\n",
      "Fraction of Lymphocyte among 50 closest cells next to Lymphocyte [0.9287735976678065, 0.5346154089154195, 0.02944204044787672]\n",
      "Fraction of Lymphocyte among 50 closest cells next to Macrophage [0.05870463544333802, 0.04564376877093659, 0.04564376877093659]\n",
      "Fraction of Macrophage among 50 closest cells next to Tumor [0.11674497002551795, 0.8661518119613225, 0.02912110755680702]\n",
      "Fraction of Neutrophil among 50 closest cells next to Tumor [0.6270561438302078, 0.5440601388787782, 0.021452912384544415]\n",
      "Fraction of Others among 50 closest cells next to Tumor [0.4841745008953646, 0.5815821389813733, 0.008073978337199923]\n",
      "Average amount of cells within 50mu around Lymphocyte [0.7019915637127168, 0.7002170916578232, 0.041104226650018304]\n",
      "Average amount of Others cells within 50mu of Lymphocyte [0.32546880481726737, 0.1059337504190656, 0.033969416031037064]\n",
      "Average amount of cells within 50mu around Macrophage [0.5587915826868988, 0.7491700621019387, 0.022193070960145066]\n",
      "Average amount of Lymphocyte cells within 50mu of Macrophage [0.6459517697372879, 0.4423702869312791, 0.001428696350272681]\n",
      "Average amount of Neutrophil cells within 50mu of Macrophage [0.06595438545797701, 0.06595438545797701, 0.026725470580302186]\n",
      "Average amount of Others cells within 50mu of Macrophage [0.5187635509643868, 0.6302093187072368, 0.0065204501759582485]\n",
      "Average amount of Tumor cells within 50mu of Macrophage [0.11072076426141467, 0.12220016124043481, 0.006107728024142437]\n",
      "Average amount of cells within 50mu around Neutrophil [0.667092996287126, 0.7818989673481962, 0.04291469323292656]\n",
      "Average amount of cells within 50mu around Others [0.2118170238708933, 0.42564920546947715, 0.026045657031281633]\n",
      "Average amount of Lymphocyte cells within 50mu of Others [0.3888260919192936, 0.08076652165877511, 0.026045657031281633]\n",
      "Average amount of Neutrophil cells within 50mu of Others [0.17792796846105613, 0.18932166570011855, 0.03486138870951789]\n",
      "Average amount of Others cells within 50mu of Others [0.35968573406543247, 0.5272659743668329, 0.033969416031037064]\n",
      "Average amount of Lymphocyte cells within 50mu of Tumor [0.30839314624575226, 0.8734951160462774, 0.026045657031281633]\n",
      "Average amount of Others cells within 50mu of Tumor [0.7146817580566563, 0.5838221333242096, 0.04911565686615304]\n",
      "Average smallest distance from Lymphocyte to Lymphocyte [0.6016276680435038, 0.34533131003909046, 0.02972788891289713]\n",
      "Average smallest distance from Lymphocyte to Neutrophil [0.5147687773202758, 0.48692786947413114, 0.01610446213605784]\n",
      "Average smallest distance from Macrophage to Neutrophil [0.28795030366438734, 0.11408731693176338, 0.03398125330745095]\n",
      "Average smallest distance from Neutrophil to Lymphocyte [0.5209952154121223, 0.6915052138465569, 9.66229778496906e-06]\n",
      "Average smallest distance from Neutrophil to Others [0.9280328733441128, 0.9197530093451838, 0.00022279002228171223]\n",
      "G-function L1 for Macrophage to Lymphocyte [0.06172837090861531, 0.05986894937316494, 0.0027599373069406435]\n",
      "G-function L1 for Macrophage to Neutrophil [0.18808730249901706, 0.012499749053366772, 0.00834704320183175]\n",
      "G-function L1 for Macrophage to Tumor [0.007922276164295456, 0.004121325111473566, 0.008478080265591525]\n",
      "K-function L1 for Lymphocyte [0.49229163790958097, 0.3540165801910531, 0.049137809422831316]\n",
      "K-function L1 for Lymphocyte to Lymphocyte [0.40797872162736004, 0.5810068172408558, 0.026045657031281668]\n",
      "K-function L1 for Lymphocyte to Macrophage [0.5230874589175402, 0.831710609935377, 0.02912110755680865]\n",
      "K-function L1 for Macrophage to Macrophage [0.5095113212842716, 0.9547461711877898, 0.04155589879131553]\n",
      "K-function L1 for Macrophage to Neutrophil [0.5448688636502604, 0.12568067744251576, 0.00882917411945442]\n",
      "K-function L1 for Neutrophil [0.9940539167689869, 0.9317424297586947, 0.049137809422831316]\n",
      "K-function L1 for Neutrophil to Lymphocyte [0.35813356608314884, 0.2984092138921909, 0.026045657031281668]\n",
      "K-function L1 for Neutrophil to Neutrophil [0.8116453686564217, 0.7853991189092123, 0.0014286963502723256]\n",
      "K-function L1 for Tumor to Macrophage [0.25251117616926577, 0.5579700716498535, 0.011439576737643313]\n",
      "K-function L1 for Tumor to Neutrophil [0.7041924585113987, 0.6047244482245859, 0.0014286963502723256]\n",
      "49\n"
     ]
    }
   ],
   "source": [
    "count = 0\n",
    "for key, value in ds.log_rank_p.items():\n",
    "    if min(value) < 0.05:\n",
    "        count += 1\n",
    "        print(key, value)\n",
    "print(count)"
   ]
  },
  {
   "cell_type": "code",
   "execution_count": 12,
   "metadata": {},
   "outputs": [
    {
     "name": "stdout",
     "output_type": "stream",
     "text": [
      "Lymphocyte_average_area_px^2 0.03285638952929696\n",
      "Neutrophil_average_area_px^2 0.04708469031179319\n",
      "Others_average_area_px^2 0.05421097112982436\n",
      "Neutrophil_density_mu^2 0.0783531073046302\n",
      "G-function L1 for Lymphocyte to Lymphocyte 0.08611584425896372\n",
      "G-function L1 for Others to Lymphocyte 0.08137830976504683\n",
      "Fraction of Lymphocyte among 50 closest cells next to Macrophage 0.07019646307324533\n",
      "Average amount of Tumor cells within 50mu of Macrophage 0.09090550282775212\n",
      "G-function L1 for Macrophage to Lymphocyte 0.03363032104690248\n",
      "G-function L1 for Macrophage to Tumor 0.0701482502130612\n",
      "K-function L1 for Lymphocyte to Neutrophil 0.08840094740921338\n",
      "K-function L1 for Neutrophil to Neutrophil 0.07385229472086126\n",
      "K-function L1 for Tumor to Neutrophil 0.08344461781395728\n"
     ]
    }
   ],
   "source": [
    "for key, value in ds.cox_p.items():\n",
    "    if value < 0.1:\n",
    "        print(key, value)"
   ]
  }
 ],
 "metadata": {
  "kernelspec": {
   "display_name": "LAB",
   "language": "python",
   "name": "python3"
  },
  "language_info": {
   "codemirror_mode": {
    "name": "ipython",
    "version": 3
   },
   "file_extension": ".py",
   "mimetype": "text/x-python",
   "name": "python",
   "nbconvert_exporter": "python",
   "pygments_lexer": "ipython3",
   "version": "3.9.16"
  },
  "orig_nbformat": 4
 },
 "nbformat": 4,
 "nbformat_minor": 2
}
