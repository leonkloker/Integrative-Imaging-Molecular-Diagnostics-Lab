{
 "cells": [
  {
   "cell_type": "code",
   "execution_count": 5,
   "metadata": {},
   "outputs": [],
   "source": [
    "import cv2 as cv\n",
    "import numpy as np\n",
    "import pandas as pd\n",
    "import tensorflow as tf"
   ]
  },
  {
   "cell_type": "code",
   "execution_count": 10,
   "metadata": {},
   "outputs": [],
   "source": [
    "train_index = [\"A-1\", \"B-1\", \"C-1\", \"D-1\", \"E-1\"]\n",
    "path_cores = \"TMA_cores_M06_M07_panels/M06/Cores/\"\n",
    "path_mxIF = \"Texts_small_coregistered/\""
   ]
  },
  {
   "cell_type": "code",
   "execution_count": 11,
   "metadata": {},
   "outputs": [],
   "source": [
    "train_cores = [cv.imread(path_cores + index + \".png\") for index in train_index]\n",
    "train_mxIF = [pd.read_csv(path_mxIF + index + \".csv\") for index in train_index]"
   ]
  },
  {
   "cell_type": "code",
   "execution_count": 50,
   "metadata": {},
   "outputs": [],
   "source": [
    "def data_generator():\n",
    "    mxIF_features = [\"Cell X Position\", \"Cell Y Position\"]\n",
    "    cell_size = (25,25)\n",
    "\n",
    "    for i in range(len(train_index)):\n",
    "        X = np.array(train_mxIF[i].loc[:,'Cell X Position']).reshape((-1))\n",
    "        Y = np.array(train_mxIF[i].loc[:,'Cell Y Position']).reshape((-1))\n",
    "\n",
    "        for j,(x,y) in enumerate(zip(X,Y)):\n",
    "            if round(x) < cell_size[0] or round(x) > train_cores[i].shape[1] - cell_size[0]:\n",
    "                continue\n",
    "            if round(y) < cell_size[1] or round(y) > train_cores[i].shape[0] - cell_size[1]:\n",
    "                continue\n",
    "\n",
    "            cell_image = train_cores[i][round(y-cell_size[1]):round(y+cell_size[1]),\n",
    "                                        round(x-cell_size[0]):round(x+cell_size[0])]\n",
    "            \n",
    "            cell_features = np.array(train_mxIF[i].loc[j, mxIF_features], dtype=np.float32)\n",
    "            \n",
    "            yield cell_image, cell_features\n"
   ]
  },
  {
   "cell_type": "code",
   "execution_count": 59,
   "metadata": {},
   "outputs": [
    {
     "data": {
      "text/plain": [
       "True"
      ]
     },
     "execution_count": 59,
     "metadata": {},
     "output_type": "execute_result"
    }
   ],
   "source": [
    "gen = data_generator()\n",
    "im = next(gen)[0]\n",
    "cv.imwrite('test.png', im)"
   ]
  }
 ],
 "metadata": {
  "kernelspec": {
   "display_name": "LAB",
   "language": "python",
   "name": "python3"
  },
  "language_info": {
   "codemirror_mode": {
    "name": "ipython",
    "version": 3
   },
   "file_extension": ".py",
   "mimetype": "text/x-python",
   "name": "python",
   "nbconvert_exporter": "python",
   "pygments_lexer": "ipython3",
   "version": "3.9.16"
  },
  "orig_nbformat": 4,
  "vscode": {
   "interpreter": {
    "hash": "109a8611147ef3c1b5bc156e6b3804a3b3068ea33c15f39cb0fa9486c3c659cb"
   }
  }
 },
 "nbformat": 4,
 "nbformat_minor": 2
}
