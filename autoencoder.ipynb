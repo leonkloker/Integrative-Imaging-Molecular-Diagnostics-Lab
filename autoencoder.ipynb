{
 "cells": [
  {
   "cell_type": "code",
   "execution_count": 1,
   "metadata": {},
   "outputs": [
    {
     "name": "stderr",
     "output_type": "stream",
     "text": [
      "2023-03-01 23:54:09.032167: I tensorflow/core/platform/cpu_feature_guard.cc:193] This TensorFlow binary is optimized with oneAPI Deep Neural Network Library (oneDNN) to use the following CPU instructions in performance-critical operations:  AVX2 AVX512F AVX512_VNNI FMA\n",
      "To enable them in other operations, rebuild TensorFlow with the appropriate compiler flags.\n",
      "2023-03-01 23:54:09.395446: I tensorflow/core/util/port.cc:104] oneDNN custom operations are on. You may see slightly different numerical results due to floating-point round-off errors from different computation orders. To turn them off, set the environment variable `TF_ENABLE_ONEDNN_OPTS=0`.\n",
      "2023-03-01 23:54:10.706628: W tensorflow/compiler/xla/stream_executor/platform/default/dso_loader.cc:64] Could not load dynamic library 'libnvinfer.so.7'; dlerror: libnvinfer.so.7: cannot open shared object file: No such file or directory; LD_LIBRARY_PATH: /home/leonkl/anaconda3/envs/LAB/lib/python3.9/site-packages/cv2/../../lib64:\n",
      "2023-03-01 23:54:10.706812: W tensorflow/compiler/xla/stream_executor/platform/default/dso_loader.cc:64] Could not load dynamic library 'libnvinfer_plugin.so.7'; dlerror: libnvinfer_plugin.so.7: cannot open shared object file: No such file or directory; LD_LIBRARY_PATH: /home/leonkl/anaconda3/envs/LAB/lib/python3.9/site-packages/cv2/../../lib64:\n",
      "2023-03-01 23:54:10.706825: W tensorflow/compiler/tf2tensorrt/utils/py_utils.cc:38] TF-TRT Warning: Cannot dlopen some TensorRT libraries. If you would like to use Nvidia GPU with TensorRT, please make sure the missing libraries mentioned above are installed properly.\n"
     ]
    }
   ],
   "source": [
    "import cv2 as cv\n",
    "import numpy as np\n",
    "import pandas as pd\n",
    "import tensorflow as tf\n",
    "\n",
    "tf.keras.backend.set_floatx('float32')"
   ]
  },
  {
   "cell_type": "code",
   "execution_count": 2,
   "metadata": {},
   "outputs": [],
   "source": [
    "train_index = [\"A-1\"]#, \"B-1\", \"C-1\", \"D-1\", \"E-1\"]\n",
    "path_cores = \"TMA_cores_M06_M07_panels/M06/Cores/\"\n",
    "path_mxIF = \"Texts_small_coregistered/\""
   ]
  },
  {
   "cell_type": "code",
   "execution_count": 3,
   "metadata": {},
   "outputs": [],
   "source": [
    "train_cores = [cv.imread(path_cores + index + \".png\") for index in train_index]\n",
    "train_mxIF = [pd.read_csv(path_mxIF + index + \".csv\") for index in train_index]"
   ]
  },
  {
   "cell_type": "code",
   "execution_count": 28,
   "metadata": {},
   "outputs": [],
   "source": [
    "BUFFER = 50\n",
    "BATCH = 8\n",
    "CELL_SIZE = (32, 32)\n",
    "MXIF_FEATURES = [\"Cell X Position\", \"Cell Y Position\"]"
   ]
  },
  {
   "cell_type": "code",
   "execution_count": 51,
   "metadata": {},
   "outputs": [],
   "source": [
    "def data_generator():\n",
    "    for i in range(len(train_index)):\n",
    "        X = list(train_mxIF[i].loc[:,'Cell X Position'])\n",
    "        Y = list(train_mxIF[i].loc[:,'Cell Y Position'])\n",
    "\n",
    "        for j,(x,y) in enumerate(zip(X,Y)):\n",
    "            if np.isnan(x) or np.isnan(y):\n",
    "                continue\n",
    "            if round(x - CELL_SIZE[0]) < 0 or round(x + CELL_SIZE[0]) > train_cores[i].shape[1]:\n",
    "                continue\n",
    "            if round(y < CELL_SIZE[1]) < 0 or round(y + CELL_SIZE[1]) > train_cores[i].shape[0]:\n",
    "                continue\n",
    "\n",
    "            cell_image = train_cores[i][round(y-CELL_SIZE[1]):round(y+CELL_SIZE[1]),\n",
    "                                        round(x-CELL_SIZE[0]):round(x+CELL_SIZE[0])] / 255\n",
    "            \n",
    "            cell_features = np.array(train_mxIF[i].loc[j, MXIF_FEATURES], dtype=np.float32)\n",
    "            yield (cell_image, cell_features)\n"
   ]
  },
  {
   "cell_type": "code",
   "execution_count": 52,
   "metadata": {},
   "outputs": [],
   "source": [
    "train_ds = tf.data.Dataset.from_generator(data_generator,\n",
    "                    output_signature=(tf.TensorSpec(shape=(2*CELL_SIZE[1],2*CELL_SIZE[0],3), dtype=tf.float32),\n",
    "                                      tf.TensorSpec(shape=(len(MXIF_FEATURES)), dtype=tf.float32)))\n",
    "train_ds = train_ds.shuffle(BUFFER)\n",
    "train_ds = train_ds.batch(BATCH)"
   ]
  },
  {
   "cell_type": "code",
   "execution_count": 57,
   "metadata": {},
   "outputs": [],
   "source": [
    "class DoubleAutoencoder(tf.keras.models.Model):\n",
    "    def __init__(self, latent_dim=(48, 16)):\n",
    "        super(DoubleAutoencoder, self).__init__()\n",
    "        self.latent_dim_conv = latent_dim[0]\n",
    "        self.latent_dim_fnn = latent_dim[1]\n",
    "        \n",
    "        self.encoder_conv = tf.keras.Sequential([\n",
    "            tf.keras.layers.InputLayer(input_shape=(2*CELL_SIZE[1], 2*CELL_SIZE[0], 3)),\n",
    "            tf.keras.layers.Conv2D(filters=6, kernel_size=3, strides=(2, 2), activation='relu', padding='same'),\n",
    "            tf.keras.layers.BatchNormalization(),\n",
    "            tf.keras.layers.Conv2D(filters=12, kernel_size=3, strides=(2, 2), activation='relu', padding='same'),\n",
    "            tf.keras.layers.BatchNormalization(),\n",
    "            tf.keras.layers.Conv2D(filters=18, kernel_size=3, strides=(2, 2), activation='relu', padding='same'),\n",
    "            tf.keras.layers.BatchNormalization(),\n",
    "            tf.keras.layers.Conv2D(filters=24, kernel_size=3, strides=(2, 2), activation='relu', padding='same'),\n",
    "            tf.keras.layers.BatchNormalization(),\n",
    "            tf.keras.layers.Conv2D(filters=36, kernel_size=3, strides=(2, 2), activation='relu', padding='same'),\n",
    "            tf.keras.layers.BatchNormalization(),\n",
    "            tf.keras.layers.Conv2D(filters=48, kernel_size=3, strides=(2, 2), activation='relu', padding='same'),\n",
    "            tf.keras.layers.Flatten(),\n",
    "            tf.keras.layers.Dense(self.latent_dim_conv)])\n",
    "\n",
    "        self.decoder_conv = tf.keras.Sequential([\n",
    "            tf.keras.layers.InputLayer(input_shape=(self.latent_dim_conv)),\n",
    "            tf.keras.layers.Dense(units=48, activation='relu'),\n",
    "            tf.keras.layers.Reshape(target_shape=(1, 1, 48)),\n",
    "            tf.keras.layers.Conv2DTranspose(filters=36, kernel_size=3, \n",
    "                                            strides=(2, 2), padding='same', activation='relu'),\n",
    "            tf.keras.layers.BatchNormalization(),\n",
    "            tf.keras.layers.Conv2DTranspose(filters=24, kernel_size=3, \n",
    "                                            strides=(2, 2), padding='same', activation='relu'),\n",
    "            tf.keras.layers.BatchNormalization(),\n",
    "            tf.keras.layers.Conv2DTranspose(filters=18, kernel_size=3, \n",
    "                                            strides=(2, 2), padding='same', activation='relu'),\n",
    "            tf.keras.layers.BatchNormalization(),\n",
    "            tf.keras.layers.Conv2DTranspose(filters=12, kernel_size=3, \n",
    "                                            strides=(2, 2), padding='same', activation='relu'),\n",
    "            tf.keras.layers.BatchNormalization(),\n",
    "            tf.keras.layers.Conv2DTranspose(filters=6, kernel_size=3, \n",
    "                                            strides=(2, 2), padding='same', activation='relu'),\n",
    "            tf.keras.layers.BatchNormalization(),\n",
    "            tf.keras.layers.Conv2DTranspose(filters=3, kernel_size=3, \n",
    "                                            strides=(2, 2), padding='same')])\n",
    "        \n",
    "        self.encoder_fnn = tf.keras.Sequential([\n",
    "            tf.keras.layers.InputLayer(input_shape=(len(MXIF_FEATURES))),\n",
    "            tf.keras.layers.Dense(units=64, activation='relu'),\n",
    "            tf.keras.layers.BatchNormalization(),\n",
    "            tf.keras.layers.Dense(units=32, activation='relu'),\n",
    "            tf.keras.layers.BatchNormalization(),\n",
    "            tf.keras.layers.Dense(units=self.latent_dim_fnn, activation='relu')\n",
    "        ])\n",
    "\n",
    "        self.decoder_fnn = tf.keras.Sequential([\n",
    "            tf.keras.layers.InputLayer(input_shape=(self.latent_dim_fnn)),\n",
    "            tf.keras.layers.Dense(units=32, activation='relu'),\n",
    "            tf.keras.layers.BatchNormalization(),\n",
    "            tf.keras.layers.Dense(units=64, activation='relu'),\n",
    "            tf.keras.layers.BatchNormalization(),\n",
    "            tf.keras.layers.Dense(units=len(MXIF_FEATURES), activation='relu')\n",
    "        ])\n",
    "\n",
    "    def call(self, inputs):\n",
    "        he_latent = self.encoder_conv(inputs[0])\n",
    "        mxIF_latent = self.encoder_fnn(inputs[1])\n",
    "        he = self.decoder_conv(he_latent)\n",
    "        mxIF = self.decoder_fnn(mxIF_latent)\n",
    "        return [he, mxIF]\n"
   ]
  },
  {
   "cell_type": "code",
   "execution_count": 58,
   "metadata": {},
   "outputs": [
    {
     "name": "stdout",
     "output_type": "stream",
     "text": [
      "Model: \"double_autoencoder_17\"\n",
      "_________________________________________________________________\n",
      " Layer (type)                Output Shape              Param #   \n",
      "=================================================================\n",
      " sequential_68 (Sequential)  (None, 48)                32850     \n",
      "                                                                 \n",
      " sequential_69 (Sequential)  (None, 64, 64, 3)         32805     \n",
      "                                                                 \n",
      " sequential_70 (Sequential)  (None, 16)                3184      \n",
      "                                                                 \n",
      " sequential_71 (Sequential)  (None, 2)                 3170      \n",
      "                                                                 \n",
      "=================================================================\n",
      "Total params: 72,009\n",
      "Trainable params: 71,241\n",
      "Non-trainable params: 768\n",
      "_________________________________________________________________\n"
     ]
    }
   ],
   "source": [
    "autoencoder = DoubleAutoencoder()\n",
    "for elem in train_ds.take(1):\n",
    "    elem = (elem[0][:,:,:], elem[1][:,:])\n",
    "    autoencoder(elem)\n",
    "autoencoder.summary()"
   ]
  }
 ],
 "metadata": {
  "kernelspec": {
   "display_name": "LAB",
   "language": "python",
   "name": "python3"
  },
  "language_info": {
   "codemirror_mode": {
    "name": "ipython",
    "version": 3
   },
   "file_extension": ".py",
   "mimetype": "text/x-python",
   "name": "python",
   "nbconvert_exporter": "python",
   "pygments_lexer": "ipython3",
   "version": "3.9.16"
  },
  "orig_nbformat": 4,
  "vscode": {
   "interpreter": {
    "hash": "109a8611147ef3c1b5bc156e6b3804a3b3068ea33c15f39cb0fa9486c3c659cb"
   }
  }
 },
 "nbformat": 4,
 "nbformat_minor": 2
}
