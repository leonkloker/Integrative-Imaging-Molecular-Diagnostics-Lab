{
 "cells": [
  {
   "cell_type": "code",
   "execution_count": 1,
   "metadata": {},
   "outputs": [
    {
     "name": "stderr",
     "output_type": "stream",
     "text": [
      "2023-04-06 05:40:16.114388: I tensorflow/core/platform/cpu_feature_guard.cc:193] This TensorFlow binary is optimized with oneAPI Deep Neural Network Library (oneDNN) to use the following CPU instructions in performance-critical operations:  AVX2 AVX512F AVX512_VNNI FMA\n",
      "To enable them in other operations, rebuild TensorFlow with the appropriate compiler flags.\n",
      "2023-04-06 05:40:16.292890: I tensorflow/core/util/port.cc:104] oneDNN custom operations are on. You may see slightly different numerical results due to floating-point round-off errors from different computation orders. To turn them off, set the environment variable `TF_ENABLE_ONEDNN_OPTS=0`.\n",
      "2023-04-06 05:40:16.994267: W tensorflow/compiler/xla/stream_executor/platform/default/dso_loader.cc:64] Could not load dynamic library 'libnvinfer.so.7'; dlerror: libnvinfer.so.7: cannot open shared object file: No such file or directory; LD_LIBRARY_PATH: /home/leonkl/anaconda3/envs/LAB/lib/python3.9/site-packages/cv2/../../lib64:\n",
      "2023-04-06 05:40:16.994326: W tensorflow/compiler/xla/stream_executor/platform/default/dso_loader.cc:64] Could not load dynamic library 'libnvinfer_plugin.so.7'; dlerror: libnvinfer_plugin.so.7: cannot open shared object file: No such file or directory; LD_LIBRARY_PATH: /home/leonkl/anaconda3/envs/LAB/lib/python3.9/site-packages/cv2/../../lib64:\n",
      "2023-04-06 05:40:16.994331: W tensorflow/compiler/tf2tensorrt/utils/py_utils.cc:38] TF-TRT Warning: Cannot dlopen some TensorRT libraries. If you would like to use Nvidia GPU with TensorRT, please make sure the missing libraries mentioned above are installed properly.\n"
     ]
    },
    {
     "name": "stdout",
     "output_type": "stream",
     "text": [
      "GPUs: 0\n"
     ]
    },
    {
     "name": "stderr",
     "output_type": "stream",
     "text": [
      "2023-04-06 05:40:17.711595: W tensorflow/compiler/xla/stream_executor/platform/default/dso_loader.cc:64] Could not load dynamic library 'libcuda.so.1'; dlerror: libcuda.so.1: cannot open shared object file: No such file or directory; LD_LIBRARY_PATH: /home/leonkl/anaconda3/envs/LAB/lib/python3.9/site-packages/cv2/../../lib64:\n",
      "2023-04-06 05:40:17.711621: W tensorflow/compiler/xla/stream_executor/cuda/cuda_driver.cc:265] failed call to cuInit: UNKNOWN ERROR (303)\n",
      "2023-04-06 05:40:17.711640: I tensorflow/compiler/xla/stream_executor/cuda/cuda_diagnostics.cc:156] kernel driver does not appear to be running on this host (icme-gpu1): /proc/driver/nvidia/version does not exist\n"
     ]
    }
   ],
   "source": [
    "import cv2 as cv\n",
    "import datetime\n",
    "import matplotlib.pyplot as plt\n",
    "import numpy as np\n",
    "import pandas as pd\n",
    "import tensorflow as tf\n",
    "import time\n",
    "\n",
    "from keras.callbacks import EarlyStopping, ModelCheckpoint, ReduceLROnPlateau\n",
    "\n",
    "tf.keras.backend.set_floatx('float32')\n",
    "print(\"GPUs: {}\".format(len(tf.config.list_physical_devices(\"GPU\"))))"
   ]
  },
  {
   "cell_type": "code",
   "execution_count": 2,
   "metadata": {},
   "outputs": [],
   "source": [
    "train_index = [\"H-15\", \"A-15\", \"B-11\", \"A-7\", \"F-9\", \"G-3\", \"G-11\", \"H-7\", \"I-13\"]\n",
    "path_cores = \"TMA_cores_M06_M07_panels/M06/Cores/\"\n",
    "path_mxIF = \"Texts_small_coregistered/\""
   ]
  },
  {
   "cell_type": "code",
   "execution_count": 3,
   "metadata": {},
   "outputs": [],
   "source": [
    "train_cores = [cv.imread(path_cores + index + \".png\") for index in train_index]\n",
    "train_mxIF = [pd.read_csv(path_mxIF + index + \".csv\") for index in train_index]"
   ]
  },
  {
   "cell_type": "code",
   "execution_count": 4,
   "metadata": {},
   "outputs": [],
   "source": [
    "BUFFER = 128\n",
    "BATCH = 32\n",
    "VAL_SPLIT = 0.04\n",
    "CELL_SIZE = (32, 32)\n",
    "MXIF_FEATURES = [\"Nucleus PD1 (PPD520) Mean (Normalized Counts, Total Weighting)\",\n",
    "                 \"Nucleus PD1 (PPD520) Max (Normalized Counts, Total Weighting)\",\n",
    "                 \"Nucleus PD1 (PPD520) Std Dev (Normalized Counts, Total Weighting)\",\n",
    "                 \"Nucleus FOXP3 (PPD540) Mean (Normalized Counts, Total Weighting)\",\n",
    "                 \"Nucleus FOXP3 (PPD540) Max (Normalized Counts, Total Weighting)\",\n",
    "                 \"Nucleus FOXP3 (PPD540) Std Dev (Normalized Counts, Total Weighting)\",\n",
    "                 \"Nucleus CD20 (PPD620) Mean (Normalized Counts, Total Weighting)\",\n",
    "                 \"Nucleus CD20 (PPD620) Max (Normalized Counts, Total Weighting)\",\n",
    "                 \"Nucleus CD20 (PPD620) Std Dev (Normalized Counts, Total Weighting)\",\n",
    "                 \"Nucleus CD3 (PPD650) Mean (Normalized Counts, Total Weighting)\",\n",
    "                 \"Nucleus CD3 (PPD650) Max (Normalized Counts, Total Weighting)\",\n",
    "                 \"Nucleus CD3 (PPD650) Std Dev (Normalized Counts, Total Weighting)\",\n",
    "                 \"Nucleus PANCK (PPD690) Mean (Normalized Counts, Total Weighting)\",\n",
    "                 \"Nucleus PANCK (PPD690) Max (Normalized Counts, Total Weighting)\",\n",
    "                 \"Nucleus PANCK (PPD690) Std Dev (Normalized Counts, Total Weighting)\",\n",
    "                 \"Cytoplasm PD1 (PPD520) Mean (Normalized Counts, Total Weighting)\",\n",
    "                 \"Cytoplasm PD1 (PPD520) Max (Normalized Counts, Total Weighting)\",\n",
    "                 \"Cytoplasm PD1 (PPD520) Std Dev (Normalized Counts, Total Weighting)\",\n",
    "                 \"Cytoplasm FOXP3 (PPD540) Mean (Normalized Counts, Total Weighting)\",\n",
    "                 \"Cytoplasm FOXP3 (PPD540) Max (Normalized Counts, Total Weighting)\",\n",
    "                 \"Cytoplasm FOXP3 (PPD540) Std Dev (Normalized Counts, Total Weighting)\",\n",
    "                 \"Cytoplasm CD20 (PPD620) Mean (Normalized Counts, Total Weighting)\",\n",
    "                 \"Cytoplasm CD20 (PPD620) Max (Normalized Counts, Total Weighting)\",\n",
    "                 \"Cytoplasm CD20 (PPD620) Std Dev (Normalized Counts, Total Weighting)\",\n",
    "                 \"Cytoplasm CD3 (PPD650) Mean (Normalized Counts, Total Weighting)\",\n",
    "                 \"Cytoplasm CD3 (PPD650) Max (Normalized Counts, Total Weighting)\",\n",
    "                 \"Cytoplasm CD3 (PPD650) Std Dev (Normalized Counts, Total Weighting)\",\n",
    "                 \"Cytoplasm PANCK (PPD690) Mean (Normalized Counts, Total Weighting)\",\n",
    "                 \"Cytoplasm PANCK (PPD690) Max (Normalized Counts, Total Weighting)\",\n",
    "                 \"Cytoplasm PANCK (PPD690) Std Dev (Normalized Counts, Total Weighting)\"]"
   ]
  },
  {
   "cell_type": "code",
   "execution_count": 5,
   "metadata": {},
   "outputs": [],
   "source": [
    "TOTAL_MAX = np.zeros(len(MXIF_FEATURES))\n",
    "TOTAL_MIN = np.zeros(len(MXIF_FEATURES))\n",
    "\n",
    "for i, feature in enumerate(MXIF_FEATURES):\n",
    "    for core in train_mxIF:\n",
    "        current_max = core.loc[:,feature].max()\n",
    "        current_min = core.loc[:,feature].min()\n",
    "        if current_max > TOTAL_MAX[i]:\n",
    "            TOTAL_MAX[i] = current_max\n",
    "        if current_min < TOTAL_MIN[i]:\n",
    "            TOTAL_MIN[i] = current_min"
   ]
  },
  {
   "cell_type": "code",
   "execution_count": 6,
   "metadata": {},
   "outputs": [],
   "source": [
    "def get_generator(val=False):\n",
    "    def data_generator():\n",
    "        np.random.seed(4)\n",
    "        for i in range(len(train_index)):\n",
    "            X = train_mxIF[i].loc[:,'Cell X Position']\n",
    "            Y = train_mxIF[i].loc[:,'Cell Y Position']\n",
    "\n",
    "            inx = np.random.uniform(size=X.size) > VAL_SPLIT\n",
    "            if val:\n",
    "                inx = np.invert(inx)\n",
    "\n",
    "            rows = np.arange(X.size)\n",
    "\n",
    "            for j,x,y in zip(rows[inx],X[inx],Y[inx]):\n",
    "                x = float(x)\n",
    "                y = float(y)\n",
    "                if np.isnan(x) or np.isnan(y):\n",
    "                    continue\n",
    "                if round(x - CELL_SIZE[0]) < 0 or round(x + CELL_SIZE[0]) >= train_cores[i].shape[1]:\n",
    "                    continue\n",
    "                if round(y - CELL_SIZE[1]) < 0 or round(y + CELL_SIZE[1]) >= train_cores[i].shape[0]:\n",
    "                    continue\n",
    "\n",
    "                cell_image = train_cores[i][round(y-CELL_SIZE[1]):round(y+CELL_SIZE[1]),\n",
    "                                            round(x-CELL_SIZE[0]):round(x+CELL_SIZE[0])] / 255\n",
    "                \n",
    "                cell_features = np.array(train_mxIF[i].loc[j, MXIF_FEATURES], dtype=np.float32)\n",
    "                cell_features = (cell_features - TOTAL_MIN) / TOTAL_MAX\n",
    "                \n",
    "                if np.sum(np.isnan(cell_features)) != 0:\n",
    "                    continue\n",
    "\n",
    "                yield (cell_image, cell_features), (cell_image, cell_features)\n",
    "                \n",
    "    return data_generator\n"
   ]
  },
  {
   "cell_type": "code",
   "execution_count": 7,
   "metadata": {},
   "outputs": [
    {
     "name": "stderr",
     "output_type": "stream",
     "text": [
      "2023-03-18 21:47:32.079564: I tensorflow/core/platform/cpu_feature_guard.cc:193] This TensorFlow binary is optimized with oneAPI Deep Neural Network Library (oneDNN) to use the following CPU instructions in performance-critical operations:  AVX2 AVX512F AVX512_VNNI FMA\n",
      "To enable them in other operations, rebuild TensorFlow with the appropriate compiler flags.\n"
     ]
    }
   ],
   "source": [
    "train_ds = tf.data.Dataset.from_generator(get_generator(),\n",
    "                    output_signature=((tf.TensorSpec(shape=(2*CELL_SIZE[1],2*CELL_SIZE[0],3), dtype=tf.float32),tf.TensorSpec(shape=(len(MXIF_FEATURES)), dtype=tf.float32)),\n",
    "                    (tf.TensorSpec(shape=(2*CELL_SIZE[1],2*CELL_SIZE[0],3), dtype=tf.float32),\n",
    "                    tf.TensorSpec(shape=(len(MXIF_FEATURES)), dtype=tf.float32))))\n",
    "val_ds = tf.data.Dataset.from_generator(get_generator(val=True),\n",
    "                    output_signature=((tf.TensorSpec(shape=(2*CELL_SIZE[1],2*CELL_SIZE[0],3), dtype=tf.float32),tf.TensorSpec(shape=(len(MXIF_FEATURES)), dtype=tf.float32)),\n",
    "                    (tf.TensorSpec(shape=(2*CELL_SIZE[1],2*CELL_SIZE[0],3), dtype=tf.float32),\n",
    "                    tf.TensorSpec(shape=(len(MXIF_FEATURES)), dtype=tf.float32))))\n",
    "train_ds = train_ds.shuffle(BUFFER)\n",
    "train_ds = train_ds.batch(BATCH)\n",
    "val_ds = val_ds.batch(BATCH)"
   ]
  },
  {
   "cell_type": "code",
   "execution_count": 8,
   "metadata": {},
   "outputs": [],
   "source": [
    "class DoubleAutoencoder(tf.keras.models.Model):\n",
    "    def __init__(self, latent_dim=(64, 16), dropout_ffn=0):\n",
    "        super(DoubleAutoencoder, self).__init__()\n",
    "        self.latent_dim_conv = latent_dim[0]\n",
    "        self.latent_dim_fnn = latent_dim[1]\n",
    "        self.dropout_ffn = dropout_ffn\n",
    "        \n",
    "        self.encoder_conv = tf.keras.Sequential([\n",
    "            tf.keras.layers.InputLayer(input_shape=(2*CELL_SIZE[1], 2*CELL_SIZE[0], 3)),\n",
    "            tf.keras.layers.Conv2D(filters=self.latent_dim_conv, kernel_size=3, strides=(1, 1), activation='relu', padding='same'),\n",
    "            tf.keras.layers.BatchNormalization(),\n",
    "            tf.keras.layers.Conv2D(filters=self.latent_dim_conv, kernel_size=3, strides=(2, 2), activation='relu', padding='same'),\n",
    "            tf.keras.layers.BatchNormalization(),\n",
    "            tf.keras.layers.Conv2D(filters=self.latent_dim_conv, kernel_size=3, strides=(2, 2), activation='relu', padding='same'),\n",
    "            tf.keras.layers.BatchNormalization(),\n",
    "            tf.keras.layers.Conv2D(filters=self.latent_dim_conv, kernel_size=3, strides=(2, 2), activation='relu', padding='same'),\n",
    "            tf.keras.layers.BatchNormalization(),\n",
    "            tf.keras.layers.Conv2D(filters=self.latent_dim_conv, kernel_size=3, strides=(2, 2), activation='relu', padding='same'),\n",
    "            tf.keras.layers.BatchNormalization(),\n",
    "            tf.keras.layers.Conv2D(filters=self.latent_dim_conv, kernel_size=3, strides=(2, 2), activation='relu', padding='same'),\n",
    "            tf.keras.layers.BatchNormalization(),\n",
    "            tf.keras.layers.Conv2D(filters=self.latent_dim_conv, kernel_size=3, strides=(2, 2), activation='relu', padding='same'),\n",
    "            tf.keras.layers.Flatten(),\n",
    "            tf.keras.layers.Dense(self.latent_dim_conv)])\n",
    "\n",
    "        self.decoder_conv = tf.keras.Sequential([\n",
    "            tf.keras.layers.InputLayer(input_shape=(self.latent_dim_conv)),\n",
    "            tf.keras.layers.Dense(units=self.latent_dim_conv, activation='relu'),\n",
    "            tf.keras.layers.Reshape(target_shape=(1, 1, self.latent_dim_conv)),\n",
    "            tf.keras.layers.Conv2DTranspose(filters=self.latent_dim_conv, kernel_size=3, \n",
    "                                            strides=(2, 2), padding='same', activation='relu'),\n",
    "            tf.keras.layers.BatchNormalization(),\n",
    "            tf.keras.layers.Conv2DTranspose(filters=self.latent_dim_conv, kernel_size=3, \n",
    "                                            strides=(2, 2), padding='same', activation='relu'),\n",
    "            tf.keras.layers.BatchNormalization(),\n",
    "            tf.keras.layers.Conv2DTranspose(filters=48, kernel_size=3, \n",
    "                                            strides=(2, 2), padding='same', activation='relu'),\n",
    "            tf.keras.layers.BatchNormalization(),\n",
    "            tf.keras.layers.Conv2DTranspose(filters=32, kernel_size=3, \n",
    "                                            strides=(2, 2), padding='same', activation='relu'),\n",
    "            tf.keras.layers.BatchNormalization(),\n",
    "            tf.keras.layers.Conv2DTranspose(filters=16, kernel_size=3, \n",
    "                                            strides=(2, 2), padding='same', activation='relu'),\n",
    "            tf.keras.layers.BatchNormalization(),\n",
    "            tf.keras.layers.Conv2DTranspose(filters=8, kernel_size=3, \n",
    "                                            strides=(2, 2), padding='same', activation='relu'),\n",
    "            tf.keras.layers.BatchNormalization(),\n",
    "            tf.keras.layers.Conv2D(filters=3, kernel_size=3, strides=(1, 1), activation='sigmoid', padding='same')])\n",
    "\n",
    "        self.encoder_fnn = tf.keras.Sequential([\n",
    "            tf.keras.layers.InputLayer(input_shape=(len(MXIF_FEATURES))),\n",
    "            tf.keras.layers.Dense(units=64),\n",
    "            tf.keras.layers.BatchNormalization(),\n",
    "            tf.keras.layers.Activation(tf.keras.activations.relu),\n",
    "            tf.keras.layers.Dropout(self.dropout_ffn),\n",
    "            tf.keras.layers.Dense(units=32),\n",
    "            tf.keras.layers.BatchNormalization(),\n",
    "            tf.keras.layers.Activation(tf.keras.activations.relu),\n",
    "            tf.keras.layers.Dropout(self.dropout_ffn),\n",
    "            tf.keras.layers.Dense(units=self.latent_dim_fnn, activation='relu')\n",
    "        ])\n",
    "\n",
    "        self.decoder_fnn = tf.keras.Sequential([\n",
    "            tf.keras.layers.InputLayer(input_shape=(self.latent_dim_fnn)),\n",
    "            tf.keras.layers.Dense(units=32),\n",
    "            tf.keras.layers.BatchNormalization(),\n",
    "            tf.keras.layers.Activation(tf.keras.activations.relu),\n",
    "            tf.keras.layers.Dropout(self.dropout_ffn),\n",
    "            tf.keras.layers.Dense(units=64),\n",
    "            tf.keras.layers.BatchNormalization(),\n",
    "            tf.keras.layers.Activation(tf.keras.activations.relu),\n",
    "            tf.keras.layers.Dropout(self.dropout_ffn),\n",
    "            tf.keras.layers.Dense(units=len(MXIF_FEATURES), activation='sigmoid')\n",
    "        ])\n",
    "\n",
    "    def call(self, inputs):\n",
    "        he_latent = self.encoder_conv(inputs[0])\n",
    "        mxIF_latent = self.encoder_fnn(inputs[1])\n",
    "        he = self.decoder_conv(he_latent)\n",
    "        mxIF = self.decoder_fnn(mxIF_latent)\n",
    "        return he, mxIF\n"
   ]
  },
  {
   "cell_type": "code",
   "execution_count": 11,
   "metadata": {},
   "outputs": [
    {
     "name": "stdout",
     "output_type": "stream",
     "text": [
      "Model: \"double_autoencoder_1\"\n",
      "_________________________________________________________________\n",
      " Layer (type)                Output Shape              Param #   \n",
      "=================================================================\n",
      " sequential_4 (Sequential)   (None, 64)                229056    \n",
      "                                                                 \n",
      " sequential_5 (Sequential)   (None, 64, 64, 3)         126499    \n",
      "                                                                 \n",
      " sequential_6 (Sequential)   (None, 16)                4976      \n",
      "                                                                 \n",
      " sequential_7 (Sequential)   (None, 30)                4990      \n",
      "                                                                 \n",
      "=================================================================\n",
      "Total params: 365,521\n",
      "Trainable params: 363,905\n",
      "Non-trainable params: 1,616\n",
      "_________________________________________________________________\n"
     ]
    }
   ],
   "source": [
    "model = DoubleAutoencoder(dropout_ffn=0.5)\n",
    "for x, y in val_ds.take(1):\n",
    "    model(x)\n",
    "model.summary()"
   ]
  },
  {
   "cell_type": "code",
   "execution_count": 16,
   "metadata": {},
   "outputs": [],
   "source": [
    "model.compile(\n",
    "    optimizer=tf.keras.optimizers.Adam(learning_rate=5e-4),\n",
    "    loss=tf.keras.losses.MeanSquaredError(),\n",
    "    metrics=[tf.keras.losses.MeanAbsoluteError()],\n",
    ")"
   ]
  },
  {
   "cell_type": "code",
   "execution_count": 9,
   "metadata": {},
   "outputs": [],
   "source": [
    "log_dir = \"logs/autoencoder/baseline_big/ffn_dropout/\"\n",
    "log_dir_train = log_dir + datetime.datetime.now().strftime(\"%Y%m%d-%H%M%S\")\n",
    "tensorboard = tf.keras.callbacks.TensorBoard(log_dir=log_dir_train, histogram_freq=1)\n",
    "early_stopping = EarlyStopping(monitor='val_loss',\n",
    "                               restore_best_weights=True, patience=20,\n",
    "                               verbose=0, mode='min')\n",
    "model_checkpoint = tf.keras.callbacks.ModelCheckpoint(log_dir_train, monitor='val_loss',\n",
    "                                verbose = 0, save_best_only=True)"
   ]
  },
  {
   "cell_type": "code",
   "execution_count": 21,
   "metadata": {},
   "outputs": [
    {
     "name": "stdout",
     "output_type": "stream",
     "text": [
      "Epoch 1/100\n",
      "    280/Unknown - 67s 200ms/step - loss: 0.4575 - output_1_loss: 0.0448 - output_2_loss: 0.1022 - output_1_mean_absolute_error: 0.1619 - output_2_mean_absolute_error: 0.2894"
     ]
    },
    {
     "ename": "KeyboardInterrupt",
     "evalue": "",
     "output_type": "error",
     "traceback": [
      "\u001b[0;31m---------------------------------------------------------------------------\u001b[0m",
      "\u001b[0;31mKeyboardInterrupt\u001b[0m                         Traceback (most recent call last)",
      "Cell \u001b[0;32mIn[21], line 1\u001b[0m\n\u001b[0;32m----> 1\u001b[0m model\u001b[39m.\u001b[39;49mfit(train_ds, validation_data\u001b[39m=\u001b[39;49mval_ds, epochs\u001b[39m=\u001b[39;49m\u001b[39m100\u001b[39;49m, shuffle\u001b[39m=\u001b[39;49m\u001b[39mTrue\u001b[39;49;00m, verbose\u001b[39m=\u001b[39;49m\u001b[39m1\u001b[39;49m,\n\u001b[1;32m      2\u001b[0m           callbacks\u001b[39m=\u001b[39;49m[tensorboard, early_stopping, model_checkpoint, lr_reduce])\n",
      "File \u001b[0;32m~/anaconda3/envs/LAB/lib/python3.9/site-packages/keras/utils/traceback_utils.py:65\u001b[0m, in \u001b[0;36mfilter_traceback.<locals>.error_handler\u001b[0;34m(*args, **kwargs)\u001b[0m\n\u001b[1;32m     63\u001b[0m filtered_tb \u001b[39m=\u001b[39m \u001b[39mNone\u001b[39;00m\n\u001b[1;32m     64\u001b[0m \u001b[39mtry\u001b[39;00m:\n\u001b[0;32m---> 65\u001b[0m     \u001b[39mreturn\u001b[39;00m fn(\u001b[39m*\u001b[39;49margs, \u001b[39m*\u001b[39;49m\u001b[39m*\u001b[39;49mkwargs)\n\u001b[1;32m     66\u001b[0m \u001b[39mexcept\u001b[39;00m \u001b[39mException\u001b[39;00m \u001b[39mas\u001b[39;00m e:\n\u001b[1;32m     67\u001b[0m     filtered_tb \u001b[39m=\u001b[39m _process_traceback_frames(e\u001b[39m.\u001b[39m__traceback__)\n",
      "File \u001b[0;32m~/anaconda3/envs/LAB/lib/python3.9/site-packages/keras/engine/training.py:1650\u001b[0m, in \u001b[0;36mModel.fit\u001b[0;34m(self, x, y, batch_size, epochs, verbose, callbacks, validation_split, validation_data, shuffle, class_weight, sample_weight, initial_epoch, steps_per_epoch, validation_steps, validation_batch_size, validation_freq, max_queue_size, workers, use_multiprocessing)\u001b[0m\n\u001b[1;32m   1642\u001b[0m \u001b[39mwith\u001b[39;00m tf\u001b[39m.\u001b[39mprofiler\u001b[39m.\u001b[39mexperimental\u001b[39m.\u001b[39mTrace(\n\u001b[1;32m   1643\u001b[0m     \u001b[39m\"\u001b[39m\u001b[39mtrain\u001b[39m\u001b[39m\"\u001b[39m,\n\u001b[1;32m   1644\u001b[0m     epoch_num\u001b[39m=\u001b[39mepoch,\n\u001b[0;32m   (...)\u001b[0m\n\u001b[1;32m   1647\u001b[0m     _r\u001b[39m=\u001b[39m\u001b[39m1\u001b[39m,\n\u001b[1;32m   1648\u001b[0m ):\n\u001b[1;32m   1649\u001b[0m     callbacks\u001b[39m.\u001b[39mon_train_batch_begin(step)\n\u001b[0;32m-> 1650\u001b[0m     tmp_logs \u001b[39m=\u001b[39m \u001b[39mself\u001b[39;49m\u001b[39m.\u001b[39;49mtrain_function(iterator)\n\u001b[1;32m   1651\u001b[0m     \u001b[39mif\u001b[39;00m data_handler\u001b[39m.\u001b[39mshould_sync:\n\u001b[1;32m   1652\u001b[0m         context\u001b[39m.\u001b[39masync_wait()\n",
      "File \u001b[0;32m~/anaconda3/envs/LAB/lib/python3.9/site-packages/tensorflow/python/util/traceback_utils.py:150\u001b[0m, in \u001b[0;36mfilter_traceback.<locals>.error_handler\u001b[0;34m(*args, **kwargs)\u001b[0m\n\u001b[1;32m    148\u001b[0m filtered_tb \u001b[39m=\u001b[39m \u001b[39mNone\u001b[39;00m\n\u001b[1;32m    149\u001b[0m \u001b[39mtry\u001b[39;00m:\n\u001b[0;32m--> 150\u001b[0m   \u001b[39mreturn\u001b[39;00m fn(\u001b[39m*\u001b[39;49margs, \u001b[39m*\u001b[39;49m\u001b[39m*\u001b[39;49mkwargs)\n\u001b[1;32m    151\u001b[0m \u001b[39mexcept\u001b[39;00m \u001b[39mException\u001b[39;00m \u001b[39mas\u001b[39;00m e:\n\u001b[1;32m    152\u001b[0m   filtered_tb \u001b[39m=\u001b[39m _process_traceback_frames(e\u001b[39m.\u001b[39m__traceback__)\n",
      "File \u001b[0;32m~/anaconda3/envs/LAB/lib/python3.9/site-packages/tensorflow/python/eager/polymorphic_function/polymorphic_function.py:880\u001b[0m, in \u001b[0;36mFunction.__call__\u001b[0;34m(self, *args, **kwds)\u001b[0m\n\u001b[1;32m    877\u001b[0m compiler \u001b[39m=\u001b[39m \u001b[39m\"\u001b[39m\u001b[39mxla\u001b[39m\u001b[39m\"\u001b[39m \u001b[39mif\u001b[39;00m \u001b[39mself\u001b[39m\u001b[39m.\u001b[39m_jit_compile \u001b[39melse\u001b[39;00m \u001b[39m\"\u001b[39m\u001b[39mnonXla\u001b[39m\u001b[39m\"\u001b[39m\n\u001b[1;32m    879\u001b[0m \u001b[39mwith\u001b[39;00m OptionalXlaContext(\u001b[39mself\u001b[39m\u001b[39m.\u001b[39m_jit_compile):\n\u001b[0;32m--> 880\u001b[0m   result \u001b[39m=\u001b[39m \u001b[39mself\u001b[39;49m\u001b[39m.\u001b[39;49m_call(\u001b[39m*\u001b[39;49margs, \u001b[39m*\u001b[39;49m\u001b[39m*\u001b[39;49mkwds)\n\u001b[1;32m    882\u001b[0m new_tracing_count \u001b[39m=\u001b[39m \u001b[39mself\u001b[39m\u001b[39m.\u001b[39mexperimental_get_tracing_count()\n\u001b[1;32m    883\u001b[0m without_tracing \u001b[39m=\u001b[39m (tracing_count \u001b[39m==\u001b[39m new_tracing_count)\n",
      "File \u001b[0;32m~/anaconda3/envs/LAB/lib/python3.9/site-packages/tensorflow/python/eager/polymorphic_function/polymorphic_function.py:912\u001b[0m, in \u001b[0;36mFunction._call\u001b[0;34m(self, *args, **kwds)\u001b[0m\n\u001b[1;32m    909\u001b[0m   \u001b[39mself\u001b[39m\u001b[39m.\u001b[39m_lock\u001b[39m.\u001b[39mrelease()\n\u001b[1;32m    910\u001b[0m   \u001b[39m# In this case we have created variables on the first call, so we run the\u001b[39;00m\n\u001b[1;32m    911\u001b[0m   \u001b[39m# defunned version which is guaranteed to never create variables.\u001b[39;00m\n\u001b[0;32m--> 912\u001b[0m   \u001b[39mreturn\u001b[39;00m \u001b[39mself\u001b[39;49m\u001b[39m.\u001b[39;49m_no_variable_creation_fn(\u001b[39m*\u001b[39;49margs, \u001b[39m*\u001b[39;49m\u001b[39m*\u001b[39;49mkwds)  \u001b[39m# pylint: disable=not-callable\u001b[39;00m\n\u001b[1;32m    913\u001b[0m \u001b[39melif\u001b[39;00m \u001b[39mself\u001b[39m\u001b[39m.\u001b[39m_variable_creation_fn \u001b[39mis\u001b[39;00m \u001b[39mnot\u001b[39;00m \u001b[39mNone\u001b[39;00m:\n\u001b[1;32m    914\u001b[0m   \u001b[39m# Release the lock early so that multiple threads can perform the call\u001b[39;00m\n\u001b[1;32m    915\u001b[0m   \u001b[39m# in parallel.\u001b[39;00m\n\u001b[1;32m    916\u001b[0m   \u001b[39mself\u001b[39m\u001b[39m.\u001b[39m_lock\u001b[39m.\u001b[39mrelease()\n",
      "File \u001b[0;32m~/anaconda3/envs/LAB/lib/python3.9/site-packages/tensorflow/python/eager/polymorphic_function/tracing_compiler.py:134\u001b[0m, in \u001b[0;36mTracingCompiler.__call__\u001b[0;34m(self, *args, **kwargs)\u001b[0m\n\u001b[1;32m    131\u001b[0m \u001b[39mwith\u001b[39;00m \u001b[39mself\u001b[39m\u001b[39m.\u001b[39m_lock:\n\u001b[1;32m    132\u001b[0m   (concrete_function,\n\u001b[1;32m    133\u001b[0m    filtered_flat_args) \u001b[39m=\u001b[39m \u001b[39mself\u001b[39m\u001b[39m.\u001b[39m_maybe_define_function(args, kwargs)\n\u001b[0;32m--> 134\u001b[0m \u001b[39mreturn\u001b[39;00m concrete_function\u001b[39m.\u001b[39;49m_call_flat(\n\u001b[1;32m    135\u001b[0m     filtered_flat_args, captured_inputs\u001b[39m=\u001b[39;49mconcrete_function\u001b[39m.\u001b[39;49mcaptured_inputs)\n",
      "File \u001b[0;32m~/anaconda3/envs/LAB/lib/python3.9/site-packages/tensorflow/python/eager/polymorphic_function/monomorphic_function.py:1745\u001b[0m, in \u001b[0;36mConcreteFunction._call_flat\u001b[0;34m(self, args, captured_inputs, cancellation_manager)\u001b[0m\n\u001b[1;32m   1741\u001b[0m possible_gradient_type \u001b[39m=\u001b[39m gradients_util\u001b[39m.\u001b[39mPossibleTapeGradientTypes(args)\n\u001b[1;32m   1742\u001b[0m \u001b[39mif\u001b[39;00m (possible_gradient_type \u001b[39m==\u001b[39m gradients_util\u001b[39m.\u001b[39mPOSSIBLE_GRADIENT_TYPES_NONE\n\u001b[1;32m   1743\u001b[0m     \u001b[39mand\u001b[39;00m executing_eagerly):\n\u001b[1;32m   1744\u001b[0m   \u001b[39m# No tape is watching; skip to running the function.\u001b[39;00m\n\u001b[0;32m-> 1745\u001b[0m   \u001b[39mreturn\u001b[39;00m \u001b[39mself\u001b[39m\u001b[39m.\u001b[39m_build_call_outputs(\u001b[39mself\u001b[39;49m\u001b[39m.\u001b[39;49m_inference_function\u001b[39m.\u001b[39;49mcall(\n\u001b[1;32m   1746\u001b[0m       ctx, args, cancellation_manager\u001b[39m=\u001b[39;49mcancellation_manager))\n\u001b[1;32m   1747\u001b[0m forward_backward \u001b[39m=\u001b[39m \u001b[39mself\u001b[39m\u001b[39m.\u001b[39m_select_forward_and_backward_functions(\n\u001b[1;32m   1748\u001b[0m     args,\n\u001b[1;32m   1749\u001b[0m     possible_gradient_type,\n\u001b[1;32m   1750\u001b[0m     executing_eagerly)\n\u001b[1;32m   1751\u001b[0m forward_function, args_with_tangents \u001b[39m=\u001b[39m forward_backward\u001b[39m.\u001b[39mforward()\n",
      "File \u001b[0;32m~/anaconda3/envs/LAB/lib/python3.9/site-packages/tensorflow/python/eager/polymorphic_function/monomorphic_function.py:378\u001b[0m, in \u001b[0;36m_EagerDefinedFunction.call\u001b[0;34m(self, ctx, args, cancellation_manager)\u001b[0m\n\u001b[1;32m    376\u001b[0m \u001b[39mwith\u001b[39;00m _InterpolateFunctionError(\u001b[39mself\u001b[39m):\n\u001b[1;32m    377\u001b[0m   \u001b[39mif\u001b[39;00m cancellation_manager \u001b[39mis\u001b[39;00m \u001b[39mNone\u001b[39;00m:\n\u001b[0;32m--> 378\u001b[0m     outputs \u001b[39m=\u001b[39m execute\u001b[39m.\u001b[39;49mexecute(\n\u001b[1;32m    379\u001b[0m         \u001b[39mstr\u001b[39;49m(\u001b[39mself\u001b[39;49m\u001b[39m.\u001b[39;49msignature\u001b[39m.\u001b[39;49mname),\n\u001b[1;32m    380\u001b[0m         num_outputs\u001b[39m=\u001b[39;49m\u001b[39mself\u001b[39;49m\u001b[39m.\u001b[39;49m_num_outputs,\n\u001b[1;32m    381\u001b[0m         inputs\u001b[39m=\u001b[39;49margs,\n\u001b[1;32m    382\u001b[0m         attrs\u001b[39m=\u001b[39;49mattrs,\n\u001b[1;32m    383\u001b[0m         ctx\u001b[39m=\u001b[39;49mctx)\n\u001b[1;32m    384\u001b[0m   \u001b[39melse\u001b[39;00m:\n\u001b[1;32m    385\u001b[0m     outputs \u001b[39m=\u001b[39m execute\u001b[39m.\u001b[39mexecute_with_cancellation(\n\u001b[1;32m    386\u001b[0m         \u001b[39mstr\u001b[39m(\u001b[39mself\u001b[39m\u001b[39m.\u001b[39msignature\u001b[39m.\u001b[39mname),\n\u001b[1;32m    387\u001b[0m         num_outputs\u001b[39m=\u001b[39m\u001b[39mself\u001b[39m\u001b[39m.\u001b[39m_num_outputs,\n\u001b[0;32m   (...)\u001b[0m\n\u001b[1;32m    390\u001b[0m         ctx\u001b[39m=\u001b[39mctx,\n\u001b[1;32m    391\u001b[0m         cancellation_manager\u001b[39m=\u001b[39mcancellation_manager)\n",
      "File \u001b[0;32m~/anaconda3/envs/LAB/lib/python3.9/site-packages/tensorflow/python/eager/execute.py:52\u001b[0m, in \u001b[0;36mquick_execute\u001b[0;34m(op_name, num_outputs, inputs, attrs, ctx, name)\u001b[0m\n\u001b[1;32m     50\u001b[0m \u001b[39mtry\u001b[39;00m:\n\u001b[1;32m     51\u001b[0m   ctx\u001b[39m.\u001b[39mensure_initialized()\n\u001b[0;32m---> 52\u001b[0m   tensors \u001b[39m=\u001b[39m pywrap_tfe\u001b[39m.\u001b[39;49mTFE_Py_Execute(ctx\u001b[39m.\u001b[39;49m_handle, device_name, op_name,\n\u001b[1;32m     53\u001b[0m                                       inputs, attrs, num_outputs)\n\u001b[1;32m     54\u001b[0m \u001b[39mexcept\u001b[39;00m core\u001b[39m.\u001b[39m_NotOkStatusException \u001b[39mas\u001b[39;00m e:\n\u001b[1;32m     55\u001b[0m   \u001b[39mif\u001b[39;00m name \u001b[39mis\u001b[39;00m \u001b[39mnot\u001b[39;00m \u001b[39mNone\u001b[39;00m:\n",
      "\u001b[0;31mKeyboardInterrupt\u001b[0m: "
     ]
    }
   ],
   "source": [
    "model.fit(train_ds, validation_data=val_ds, epochs=1000, shuffle=True, verbose=2,\n",
    "          callbacks=[tensorboard, model_checkpoint])"
   ]
  },
  {
   "cell_type": "code",
   "execution_count": 13,
   "metadata": {},
   "outputs": [],
   "source": [
    "loaded_model = tf.saved_model.load(\"logs/autoencoder/baseline_big/20230314-085415/\")"
   ]
  },
  {
   "cell_type": "code",
   "execution_count": 14,
   "metadata": {},
   "outputs": [],
   "source": [
    "for i, elem in enumerate(val_ds):\n",
    "    if i == 40:\n",
    "        predict = loaded_model(elem[0], training=False)\n",
    "        for j in range(32):\n",
    "            cv.imwrite(\"original{}.png\".format(j), elem[0][0][j].numpy()*255)\n",
    "            cv.imwrite(\"predict{}.png\".format(j), predict[0][j].numpy()*255)\n",
    "        break"
   ]
  }
 ],
 "metadata": {
  "kernelspec": {
   "display_name": "LAB",
   "language": "python",
   "name": "python3"
  },
  "language_info": {
   "codemirror_mode": {
    "name": "ipython",
    "version": 3
   },
   "file_extension": ".py",
   "mimetype": "text/x-python",
   "name": "python",
   "nbconvert_exporter": "python",
   "pygments_lexer": "ipython3",
   "version": "3.9.16"
  },
  "orig_nbformat": 4,
  "vscode": {
   "interpreter": {
    "hash": "109a8611147ef3c1b5bc156e6b3804a3b3068ea33c15f39cb0fa9486c3c659cb"
   }
  }
 },
 "nbformat": 4,
 "nbformat_minor": 2
}
